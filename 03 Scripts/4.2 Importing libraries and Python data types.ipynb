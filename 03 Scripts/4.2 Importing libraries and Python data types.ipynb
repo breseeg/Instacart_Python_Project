{
 "cells": [
  {
   "cell_type": "markdown",
   "id": "449458ca",
   "metadata": {},
   "source": [
    "#01. Importing Libraries"
   ]
  },
  {
   "cell_type": "code",
   "execution_count": 1,
   "id": "0bbc0e34",
   "metadata": {},
   "outputs": [],
   "source": [
    "# import libraries\n",
    "import pandas as pd\n",
    "import numpy as np\n",
    "import os"
   ]
  },
  {
   "cell_type": "code",
   "execution_count": 26,
   "id": "21e39b37",
   "metadata": {},
   "outputs": [],
   "source": [
    "x = 2"
   ]
  },
  {
   "cell_type": "code",
   "execution_count": 27,
   "id": "b11b0d49",
   "metadata": {},
   "outputs": [],
   "source": [
    "y = 50"
   ]
  },
  {
   "cell_type": "code",
   "execution_count": 28,
   "id": "274344d6",
   "metadata": {},
   "outputs": [],
   "source": [
    "z = 30"
   ]
  },
  {
   "cell_type": "code",
   "execution_count": 29,
   "id": "8368fd81",
   "metadata": {},
   "outputs": [
    {
     "name": "stdout",
     "output_type": "stream",
     "text": [
      "82\n"
     ]
    }
   ],
   "source": [
    "print(x+y+z)"
   ]
  },
  {
   "cell_type": "code",
   "execution_count": 30,
   "id": "3635c7d1",
   "metadata": {},
   "outputs": [
    {
     "name": "stdout",
     "output_type": "stream",
     "text": [
      "100\n"
     ]
    }
   ],
   "source": [
    "print((x*10)+y+z)"
   ]
  },
  {
   "cell_type": "code",
   "execution_count": 31,
   "id": "50521a07",
   "metadata": {},
   "outputs": [],
   "source": [
    "a = 1.55"
   ]
  },
  {
   "cell_type": "code",
   "execution_count": 32,
   "id": "a984debb",
   "metadata": {},
   "outputs": [],
   "source": [
    "b = 2.22"
   ]
  },
  {
   "cell_type": "code",
   "execution_count": 33,
   "id": "5481ed68",
   "metadata": {},
   "outputs": [
    {
     "name": "stdout",
     "output_type": "stream",
     "text": [
      "0.6981981981981982\n"
     ]
    }
   ],
   "source": [
    "print(a / b)"
   ]
  },
  {
   "cell_type": "code",
   "execution_count": 34,
   "id": "4796984d",
   "metadata": {},
   "outputs": [],
   "source": [
    "d = 'sub'"
   ]
  },
  {
   "cell_type": "code",
   "execution_count": 35,
   "id": "01c96078",
   "metadata": {},
   "outputs": [],
   "source": [
    "e = 'tract'"
   ]
  },
  {
   "cell_type": "code",
   "execution_count": 36,
   "id": "3879eeae",
   "metadata": {},
   "outputs": [
    {
     "name": "stdout",
     "output_type": "stream",
     "text": [
      "subtract\n"
     ]
    }
   ],
   "source": [
    "print(d+e)"
   ]
  },
  {
   "cell_type": "code",
   "execution_count": 37,
   "id": "25bcc174",
   "metadata": {},
   "outputs": [],
   "source": [
    "g = 'I want to buy a new Fitbit'"
   ]
  },
  {
   "cell_type": "code",
   "execution_count": 38,
   "id": "be14cc69",
   "metadata": {},
   "outputs": [],
   "source": [
    "g = 'I want to buy a new Fitbit. '"
   ]
  },
  {
   "cell_type": "code",
   "execution_count": 39,
   "id": "2eb05248",
   "metadata": {},
   "outputs": [],
   "source": [
    "h = 'My old one broke when I went swimming. '"
   ]
  },
  {
   "cell_type": "code",
   "execution_count": 40,
   "id": "aa192e48",
   "metadata": {},
   "outputs": [
    {
     "name": "stdout",
     "output_type": "stream",
     "text": [
      "I want to buy a new Fitbit. My old one broke when I went swimming. \n"
     ]
    }
   ],
   "source": [
    "print(g+h)"
   ]
  },
  {
   "cell_type": "code",
   "execution_count": null,
   "id": "4bee889e",
   "metadata": {},
   "outputs": [],
   "source": []
  }
 ],
 "metadata": {
  "kernelspec": {
   "display_name": "Python 3 (ipykernel)",
   "language": "python",
   "name": "python3"
  },
  "language_info": {
   "codemirror_mode": {
    "name": "ipython",
    "version": 3
   },
   "file_extension": ".py",
   "mimetype": "text/x-python",
   "name": "python",
   "nbconvert_exporter": "python",
   "pygments_lexer": "ipython3",
   "version": "3.11.5"
  }
 },
 "nbformat": 4,
 "nbformat_minor": 5
}
